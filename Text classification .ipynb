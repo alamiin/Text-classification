{
 "cells": [
  {
   "cell_type": "code",
   "execution_count": 16,
   "metadata": {},
   "outputs": [],
   "source": [
    "import numpy as np\n",
    "import pandas as pd\n",
    "from sklearn.feature_extraction.text import TfidfVectorizer\n",
    "from sklearn.linear_model import LogisticRegression\n",
    "from sklearn.model_selection import cross_val_score\n",
    "from sklearn.pipeline import make_union"
   ]
  },
  {
   "cell_type": "code",
   "execution_count": 17,
   "metadata": {},
   "outputs": [],
   "source": [
    "#p_test.SentimentText=p_test.SentimentText.astype(str)\n",
    "train = pd.read_csv('data/trainfile_r3.csv').astype(str)\n",
    "#train.SentimentText=train.SentimentText.astype(str)\n",
    "test = pd.read_csv('data/testfile_r3.csv').astype(str)\n",
    "#test.SentimentText=test.SentimentText.astype(str)\n",
    "Sentiment = pd.get_dummies(train['Sentiment'])\n",
    "Sentiment = Sentiment.rename( columns={0.0: \"Positive\", 1.0: \"Negative\",2.0:\"Neutral\"})\n",
    "train = train.join(Sentiment)\n",
    "train.drop(['Sentiment'], axis=1, inplace=True)"
   ]
  },
  {
   "cell_type": "code",
   "execution_count": 18,
   "metadata": {},
   "outputs": [],
   "source": [
    "train['Positive'] = train['0.0']\n",
    "train['Negative'] = train['1.0']\n",
    "train['Neutral'] = train['2.0']\n",
    "train.drop(['0.0'], axis=1, inplace=True)\n",
    "train.drop(['1.0'], axis=1, inplace=True)\n",
    "train.drop(['2.0'], axis=1, inplace=True)"
   ]
  },
  {
   "cell_type": "code",
   "execution_count": 19,
   "metadata": {},
   "outputs": [],
   "source": [
    "class_names = ['Positive','Negative','Neutral']\n",
    "\n",
    "\n",
    "train_text = train['Text']\n",
    "test_text = test['Text']\n",
    "all_text = pd.concat([train_text, test_text])\n",
    "\n",
    "word_vectorizer = TfidfVectorizer(\n",
    "    #lowercase = False,\n",
    "    sublinear_tf=True,\n",
    "    strip_accents='unicode',\n",
    "    analyzer='word',\n",
    "    token_pattern=r'\\w{1,}',\n",
    "    ngram_range=(1, 1),\n",
    "    max_features=30000)\n",
    "char_vectorizer = TfidfVectorizer(\n",
    "   # lowercase = False,\n",
    "    sublinear_tf=True,\n",
    "    strip_accents='unicode',\n",
    "    analyzer='char',\n",
    "    ngram_range=(1, 4),\n",
    "    max_features=30000)\n",
    "vectorizer = make_union(word_vectorizer, char_vectorizer, n_jobs=2)\n",
    "\n",
    "vectorizer.fit(all_text)\n",
    "trn_term_doc = vectorizer.transform(train_text)\n",
    "test_term_doc  = vectorizer.transform(test_text)"
   ]
  },
  {
   "cell_type": "code",
   "execution_count": 20,
   "metadata": {},
   "outputs": [
    {
     "name": "stdout",
     "output_type": "stream",
     "text": [
      "fit for train data Positive\n",
      "fit for train data Negative\n",
      "fit for train data Neutral\n",
      "fit for test data Positive\n",
      "fit for test data Negative\n",
      "fit for test data Neutral\n"
     ]
    }
   ],
   "source": [
    "label_cols = ['Positive','Negative','Neutral']\n",
    "def pr(y_i, y):\n",
    "    p = x[y==y_i].sum(0)\n",
    "    return (p+1) / ((y==y_i).sum()+1)\n",
    "x = trn_term_doc\n",
    "test_x = test_term_doc\n",
    "def get_mdl(y):\n",
    "    y = y.values\n",
    "    r = np.log(pr(1,y) / pr(0,y))\n",
    "    m = LogisticRegression(C=4, dual=True)\n",
    "    x_nb = x.multiply(r)\n",
    "    return m.fit(x_nb, y), r\n",
    "preds_train = np.zeros((len(train), len(label_cols)))\n",
    "\n",
    "for i, j in enumerate(label_cols):\n",
    "    print('fit for train data', j)\n",
    "    m,r = get_mdl(train[j])\n",
    "    preds_train[:,i] = m.predict_proba(x.multiply(r))[:,1]\n",
    "\n",
    "preds_test = np.zeros((len(test), len(label_cols)))\n",
    "for i, j in enumerate(label_cols):\n",
    "    print('fit for test data', j)\n",
    "    m,r = get_mdl(train[j])\n",
    "    preds_test[:,i] = m.predict_proba(test_x.multiply(r))[:,1]"
   ]
  },
  {
   "cell_type": "code",
   "execution_count": 21,
   "metadata": {},
   "outputs": [],
   "source": [
    "tt = []\n",
    "for i in range(len(train)):\n",
    "    tt.append(i)\n",
    "submid = pd.DataFrame({'Id': tt})\n",
    "prediction_train = pd.concat([submid, pd.DataFrame(preds_train, columns = label_cols)], axis=1)"
   ]
  },
  {
   "cell_type": "code",
   "execution_count": 22,
   "metadata": {},
   "outputs": [],
   "source": [
    "submid = pd.DataFrame.from_dict({'Id': test['Id'], })                                   \n",
    "prediction_test = pd.concat([submid, pd.DataFrame(preds_test, columns = label_cols)], axis=1)"
   ]
  },
  {
   "cell_type": "code",
   "execution_count": 23,
   "metadata": {},
   "outputs": [
    {
     "name": "stdout",
     "output_type": "stream",
     "text": [
      "checking accuracy on train dataset.\n",
      "0.9280666666666667\n"
     ]
    }
   ],
   "source": [
    "read = prediction_train\n",
    "result = []\n",
    "for i in range(len(read['Positive'])):\n",
    "    if(read['Positive'][i] > read['Negative'][i] and read['Positive'][i] > read['Neutral'][i]):\n",
    "        result.append(0.0)\n",
    "    elif(read['Negative'][i] > read['Positive'][i] and read['Negative'][i] > read['Neutral'][i]):\n",
    "        result.append(1.0)\n",
    "    else:\n",
    "        result.append(2.0)\n",
    "ac = pd.read_csv('data/trainfile_r3.csv')\n",
    "true = 0.0\n",
    "for i in range(15000):\n",
    "    if(result[i]==ac[\"Sentiment\"][i]):\n",
    "        true += 1\n",
    "print(\"checking accuracy on train dataset.\")\n",
    "print(true/15000.0)"
   ]
  },
  {
   "cell_type": "code",
   "execution_count": 24,
   "metadata": {},
   "outputs": [],
   "source": [
    "read = prediction_test\n",
    "result = []\n",
    "for i in range(len(read['Positive'])):\n",
    "    if(read['Positive'][i] > read['Negative'][i] and read['Positive'][i] > read['Neutral'][i]):\n",
    "        result.append(0.0)\n",
    "    elif(read['Negative'][i] > read['Positive'][i] and read['Negative'][i] > read['Neutral'][i]):\n",
    "        result.append(1.0)\n",
    "    else:\n",
    "        result.append(2.0)\n",
    "read['Sentiment'] = np.array(result).T\n",
    "read.drop(['Positive'], axis=1, inplace=True)\n",
    "read.drop(['Negative'], axis=1, inplace=True)\n",
    "read.drop(['Neutral'], axis=1, inplace=True)\n",
    "read.to_csv('data/submission.csv', index=False)"
   ]
  },
  {
   "cell_type": "code",
   "execution_count": null,
   "metadata": {},
   "outputs": [],
   "source": []
  }
 ],
 "metadata": {
  "kernelspec": {
   "display_name": "Python 2",
   "language": "python",
   "name": "python2"
  },
  "language_info": {
   "codemirror_mode": {
    "name": "ipython",
    "version": 3
   },
   "file_extension": ".py",
   "mimetype": "text/x-python",
   "name": "python",
   "nbconvert_exporter": "python",
   "pygments_lexer": "ipython3",
   "version": "3.6.4"
  }
 },
 "nbformat": 4,
 "nbformat_minor": 2
}
